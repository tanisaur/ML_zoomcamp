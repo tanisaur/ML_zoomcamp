{
  "nbformat": 4,
  "nbformat_minor": 0,
  "metadata": {
    "colab": {
      "provenance": [],
      "authorship_tag": "ABX9TyNSoX7SjgmBhEY9EpOxo+05",
      "include_colab_link": true
    },
    "kernelspec": {
      "name": "python3",
      "display_name": "Python 3"
    },
    "language_info": {
      "name": "python"
    }
  },
  "cells": [
    {
      "cell_type": "markdown",
      "metadata": {
        "id": "view-in-github",
        "colab_type": "text"
      },
      "source": [
        "<a href=\"https://colab.research.google.com/github/tanisaur/ML_zoomcamp/blob/main/ML_Homework_01.ipynb\" target=\"_parent\"><img src=\"https://colab.research.google.com/assets/colab-badge.svg\" alt=\"Open In Colab\"/></a>"
      ]
    },
    {
      "cell_type": "markdown",
      "source": [
        "Set up the environment\n",
        "You need to install Python, NumPy, Pandas, Matplotlib and Seaborn."
      ],
      "metadata": {
        "id": "kdVh01Pe0_OD"
      }
    },
    {
      "cell_type": "code",
      "execution_count": 1,
      "metadata": {
        "id": "ugLRwdyw0jv8"
      },
      "outputs": [],
      "source": [
        "import numpy as np\n",
        "import pandas as pd\n",
        "import matplotlib.pyplot as plt\n",
        "import seaborn as sns\n"
      ]
    },
    {
      "cell_type": "markdown",
      "source": [
        "Q1. Pandas version\n",
        "\n",
        "What's the version of Pandas that you installed?\n",
        "\n",
        "You can get the version information using the __version__ field:\n",
        "`pd.__version__`"
      ],
      "metadata": {
        "id": "vep4eZ3e1QCt"
      }
    },
    {
      "cell_type": "code",
      "source": [
        "pd.__version__"
      ],
      "metadata": {
        "colab": {
          "base_uri": "https://localhost:8080/",
          "height": 35
        },
        "id": "xlEwVnXP1Xn-",
        "outputId": "e207879e-59d5-4de7-f804-6df580f4a2a0"
      },
      "execution_count": 4,
      "outputs": [
        {
          "output_type": "execute_result",
          "data": {
            "text/plain": [
              "'2.2.2'"
            ],
            "application/vnd.google.colaboratory.intrinsic+json": {
              "type": "string"
            }
          },
          "metadata": {},
          "execution_count": 4
        }
      ]
    },
    {
      "cell_type": "markdown",
      "source": [
        "Get the data"
      ],
      "metadata": {
        "id": "DwIWhBky1xyx"
      }
    },
    {
      "cell_type": "code",
      "source": [
        "!wget https://raw.githubusercontent.com/alexeygrigorev/datasets/master/laptops.csv"
      ],
      "metadata": {
        "colab": {
          "base_uri": "https://localhost:8080/"
        },
        "id": "39daZxcQ16Ne",
        "outputId": "21622247-878b-4b0d-851f-9dbda13edf28"
      },
      "execution_count": 6,
      "outputs": [
        {
          "output_type": "stream",
          "name": "stdout",
          "text": [
            "--2024-10-02 01:29:06--  https://raw.githubusercontent.com/alexeygrigorev/datasets/master/laptops.csv\n",
            "Resolving raw.githubusercontent.com (raw.githubusercontent.com)... 185.199.111.133, 185.199.109.133, 185.199.110.133, ...\n",
            "Connecting to raw.githubusercontent.com (raw.githubusercontent.com)|185.199.111.133|:443... connected.\n",
            "HTTP request sent, awaiting response... 200 OK\n",
            "Length: 298573 (292K) [text/plain]\n",
            "Saving to: ‘laptops.csv’\n",
            "\n",
            "laptops.csv         100%[===================>] 291.58K  --.-KB/s    in 0.04s   \n",
            "\n",
            "2024-10-02 01:29:06 (6.74 MB/s) - ‘laptops.csv’ saved [298573/298573]\n",
            "\n"
          ]
        }
      ]
    },
    {
      "cell_type": "code",
      "source": [
        "data = pd.read_csv('laptops.csv')"
      ],
      "metadata": {
        "id": "HM4j_IU02RC_"
      },
      "execution_count": 7,
      "outputs": []
    },
    {
      "cell_type": "markdown",
      "source": [
        "Q2. Records count\n",
        "\n",
        "How many records are in the dataset?\n",
        "\n",
        "    12\n",
        "    1000\n",
        "    2160\n",
        "    12160\n"
      ],
      "metadata": {
        "id": "LL98GNm82HEm"
      }
    },
    {
      "cell_type": "code",
      "source": [
        "data.info()"
      ],
      "metadata": {
        "colab": {
          "base_uri": "https://localhost:8080/"
        },
        "id": "1XlCc0iY2NcQ",
        "outputId": "ee02848e-69f5-4f8a-90f3-589a831b4bf7"
      },
      "execution_count": 9,
      "outputs": [
        {
          "output_type": "stream",
          "name": "stdout",
          "text": [
            "<class 'pandas.core.frame.DataFrame'>\n",
            "RangeIndex: 2160 entries, 0 to 2159\n",
            "Data columns (total 12 columns):\n",
            " #   Column        Non-Null Count  Dtype  \n",
            "---  ------        --------------  -----  \n",
            " 0   Laptop        2160 non-null   object \n",
            " 1   Status        2160 non-null   object \n",
            " 2   Brand         2160 non-null   object \n",
            " 3   Model         2160 non-null   object \n",
            " 4   CPU           2160 non-null   object \n",
            " 5   RAM           2160 non-null   int64  \n",
            " 6   Storage       2160 non-null   int64  \n",
            " 7   Storage type  2118 non-null   object \n",
            " 8   GPU           789 non-null    object \n",
            " 9   Screen        2156 non-null   float64\n",
            " 10  Touch         2160 non-null   object \n",
            " 11  Final Price   2160 non-null   float64\n",
            "dtypes: float64(2), int64(2), object(8)\n",
            "memory usage: 202.6+ KB\n"
          ]
        }
      ]
    },
    {
      "cell_type": "markdown",
      "source": [
        "Q3. Laptop brands\n",
        "\n",
        "How many laptop brands are presented in the dataset?\n",
        "\n",
        "    12\n",
        "    27\n",
        "    28\n",
        "    2160\n"
      ],
      "metadata": {
        "id": "sJmpBw6n3JTd"
      }
    },
    {
      "cell_type": "code",
      "source": [
        "brands = data['Brand'].unique()\n",
        "print(len(brands))\n"
      ],
      "metadata": {
        "colab": {
          "base_uri": "https://localhost:8080/"
        },
        "id": "GJbYk9RE3VKu",
        "outputId": "79c6abfc-92e0-4ff1-94bf-7c2f19e0d4ee"
      },
      "execution_count": 10,
      "outputs": [
        {
          "output_type": "stream",
          "name": "stdout",
          "text": [
            "27\n"
          ]
        }
      ]
    },
    {
      "cell_type": "markdown",
      "source": [
        "Q4. Missing values\n",
        "\n",
        "How many columns in the dataset have missing values?\n",
        "\n",
        "    0\n",
        "    1\n",
        "    2\n",
        "    3\n"
      ],
      "metadata": {
        "id": "OvpLGQu93mbH"
      }
    },
    {
      "cell_type": "code",
      "source": [
        "columns_with_missing_values = data.columns[data.isnull().any()].tolist()\n",
        "print(len(columns_with_missing_values))\n"
      ],
      "metadata": {
        "colab": {
          "base_uri": "https://localhost:8080/"
        },
        "id": "fnNnVzjd3nxv",
        "outputId": "a1809abb-362a-4cec-ebd3-1ec1732885ae"
      },
      "execution_count": 11,
      "outputs": [
        {
          "output_type": "stream",
          "name": "stdout",
          "text": [
            "3\n"
          ]
        }
      ]
    },
    {
      "cell_type": "markdown",
      "source": [
        "Q5. Maximum final price\n",
        "\n",
        "What's the maximum final price of Dell notebooks in the dataset?\n",
        "\n",
        "    869\n",
        "    3691\n",
        "    3849\n",
        "    3936\n"
      ],
      "metadata": {
        "id": "3XddN1Sq5V3G"
      }
    },
    {
      "cell_type": "code",
      "source": [
        "dell_laptops = data[data['Brand'] == 'Dell']\n",
        "max_dell_price = dell_laptops['Final Price'].max()\n",
        "print(max_dell_price)\n"
      ],
      "metadata": {
        "colab": {
          "base_uri": "https://localhost:8080/"
        },
        "id": "CcNc3udq5XD_",
        "outputId": "8a3fad8e-6a19-4f88-f90f-9f103b080925"
      },
      "execution_count": 21,
      "outputs": [
        {
          "output_type": "stream",
          "name": "stdout",
          "text": [
            "3936.0\n"
          ]
        }
      ]
    },
    {
      "cell_type": "markdown",
      "source": [
        "Q6. Median value of Screen"
      ],
      "metadata": {
        "id": "Cc4heeot7P2P"
      }
    },
    {
      "cell_type": "code",
      "source": [
        "# 1. Find the median value of Screen column in the dataset.\n",
        "median_screen = data['Screen'].median()\n",
        "print(median_screen)"
      ],
      "metadata": {
        "colab": {
          "base_uri": "https://localhost:8080/"
        },
        "id": "ffHFO3rw7bAI",
        "outputId": "47ab75bf-a803-41b0-bd8c-095764a4793e"
      },
      "execution_count": 22,
      "outputs": [
        {
          "output_type": "stream",
          "name": "stdout",
          "text": [
            "15.6\n"
          ]
        }
      ]
    },
    {
      "cell_type": "code",
      "source": [
        "# 2. Next, calculate the most frequent value of the same Screen column.\n",
        "most_frequent_screen = data['Screen'].mode()[0]\n",
        "print(most_frequent_screen)\n"
      ],
      "metadata": {
        "colab": {
          "base_uri": "https://localhost:8080/"
        },
        "id": "rvRPWuCD7rOv",
        "outputId": "942e7857-e31e-4ffd-bc3f-64265c2b8379"
      },
      "execution_count": 24,
      "outputs": [
        {
          "output_type": "stream",
          "name": "stdout",
          "text": [
            "15.6\n"
          ]
        }
      ]
    },
    {
      "cell_type": "code",
      "source": [
        "# 3. Use fillna method to fill the missing values in Screen column with\n",
        "#    the most frequent value from the previous step.\n",
        "data['Screen'].fillna(most_frequent_screen, inplace=True)"
      ],
      "metadata": {
        "colab": {
          "base_uri": "https://localhost:8080/"
        },
        "id": "_bsPk4Wg77kC",
        "outputId": "9df6feea-6323-4030-9f59-886ed3f7aed3"
      },
      "execution_count": 25,
      "outputs": [
        {
          "output_type": "stream",
          "name": "stderr",
          "text": [
            "<ipython-input-25-d81e0d18ae88>:3: FutureWarning: A value is trying to be set on a copy of a DataFrame or Series through chained assignment using an inplace method.\n",
            "The behavior will change in pandas 3.0. This inplace method will never work because the intermediate object on which we are setting values always behaves as a copy.\n",
            "\n",
            "For example, when doing 'df[col].method(value, inplace=True)', try using 'df.method({col: value}, inplace=True)' or df[col] = df[col].method(value) instead, to perform the operation inplace on the original object.\n",
            "\n",
            "\n",
            "  data['Screen'].fillna(most_frequent_screen, inplace=True)\n"
          ]
        }
      ]
    },
    {
      "cell_type": "code",
      "source": [
        "# 4. Now, calculate the median value of Screen once again.\n",
        "median_screen_after_fillna = data['Screen'].median()\n",
        "print(median_screen_after_fillna)"
      ],
      "metadata": {
        "colab": {
          "base_uri": "https://localhost:8080/"
        },
        "id": "3U89TaV_8SXq",
        "outputId": "6b80367f-d8b6-42ae-875c-db4e3a17c348"
      },
      "execution_count": 26,
      "outputs": [
        {
          "output_type": "stream",
          "name": "stdout",
          "text": [
            "15.6\n"
          ]
        }
      ]
    },
    {
      "cell_type": "markdown",
      "source": [
        "Has it changed? No."
      ],
      "metadata": {
        "id": "OjjEJfoO8f9U"
      }
    },
    {
      "cell_type": "markdown",
      "source": [
        "Q7. Sum of weights"
      ],
      "metadata": {
        "id": "f8iyrYWj8jbQ"
      }
    },
    {
      "cell_type": "code",
      "source": [
        "# 1. Select all the \"Innjoo\" laptops from the dataset.\n",
        "innjoo_laptops = data[data['Brand'] == 'Innjoo']"
      ],
      "metadata": {
        "id": "kOuRcpDA8sK7"
      },
      "execution_count": 27,
      "outputs": []
    },
    {
      "cell_type": "code",
      "source": [
        "# 2. Select only columns RAM, Storage, Screen.\n",
        "selected_columns = innjoo_laptops[['RAM', 'Storage', 'Screen']]"
      ],
      "metadata": {
        "id": "avaYhfed8ykg"
      },
      "execution_count": 29,
      "outputs": []
    },
    {
      "cell_type": "code",
      "source": [
        "# 3. Get the underlying NumPy array. Let's call it X.\n",
        "X = selected_columns.values"
      ],
      "metadata": {
        "id": "wOkPVpgN9RzV"
      },
      "execution_count": 33,
      "outputs": []
    },
    {
      "cell_type": "code",
      "source": [
        "# 4. Compute matrix-matrix multiplication between the transpose of X and X. To get the transpose, use X.T. Let's call the result XTX.\n",
        "XTX = np.dot(X.T, X)\n",
        "print(XTX)"
      ],
      "metadata": {
        "colab": {
          "base_uri": "https://localhost:8080/"
        },
        "id": "Dpz0D56s9a1M",
        "outputId": "122139b4-c9d0-46dc-af3b-1846739c02a1"
      },
      "execution_count": 34,
      "outputs": [
        {
          "output_type": "stream",
          "name": "stdout",
          "text": [
            "[[2.52000e+02 8.32000e+03 5.59800e+02]\n",
            " [8.32000e+03 3.68640e+05 1.73952e+04]\n",
            " [5.59800e+02 1.73952e+04 1.28196e+03]]\n"
          ]
        }
      ]
    },
    {
      "cell_type": "code",
      "source": [
        "# 5. Compute the inverse of XTX.\n",
        "XTX_inverse = np.linalg.inv(XTX)\n",
        "print(XTX_inverse)"
      ],
      "metadata": {
        "colab": {
          "base_uri": "https://localhost:8080/"
        },
        "id": "YK7knmqO903y",
        "outputId": "c062669f-270e-4bc6-837c-b82bb417a8dd"
      },
      "execution_count": 35,
      "outputs": [
        {
          "output_type": "stream",
          "name": "stdout",
          "text": [
            "[[ 2.78025381e-01 -1.51791334e-03 -1.00809855e-01]\n",
            " [-1.51791334e-03  1.58286725e-05  4.48052175e-04]\n",
            " [-1.00809855e-01  4.48052175e-04  3.87214888e-02]]\n"
          ]
        }
      ]
    },
    {
      "cell_type": "code",
      "source": [
        "# 6. Create an array y with values [1100, 1300, 800, 900, 1000, 1100].\n",
        "y = np.array([1100, 1300, 800, 900, 1000, 1100])"
      ],
      "metadata": {
        "id": "R0Oa3LeN96c5"
      },
      "execution_count": 37,
      "outputs": []
    },
    {
      "cell_type": "code",
      "source": [
        "# 7. Multiply the inverse of XTX with the transpose of X, and then multiply the result by y. Call the result w.\n",
        "w = np.dot(np.dot(XTX_inverse, X.T), y)"
      ],
      "metadata": {
        "id": "oCPRUjdh-Ja8"
      },
      "execution_count": 38,
      "outputs": []
    },
    {
      "cell_type": "code",
      "source": [
        "# 8. What's the sum of all the elements of the result?\n",
        "sum_w = np.sum(w)\n",
        "print(sum_w)"
      ],
      "metadata": {
        "colab": {
          "base_uri": "https://localhost:8080/"
        },
        "id": "pN1n9lC_-S1e",
        "outputId": "51482257-a3d1-4e91-fcc8-dfd40b862b04"
      },
      "execution_count": 39,
      "outputs": [
        {
          "output_type": "stream",
          "name": "stdout",
          "text": [
            "91.2998806299555\n"
          ]
        }
      ]
    },
    {
      "cell_type": "markdown",
      "source": [],
      "metadata": {
        "id": "NIizy5eH9OY_"
      }
    }
  ]
}